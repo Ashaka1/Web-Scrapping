{
 "cells": [
  {
   "cell_type": "markdown",
   "id": "06aee496",
   "metadata": {},
   "source": [
    "# Movie-Netnaija Web Scrapping\n",
    "## Importing all relevant libraries"
   ]
  },
  {
   "cell_type": "markdown",
   "id": "baddf600",
   "metadata": {},
   "source": [
    "* About Netnaija\n",
    "\n",
    "Netnaija is a website designed for blogging ,music and movie downloads and it was created in 2016.\n",
    "\n",
    "* Website Main Sections\n",
    "<ul>\n",
    "    <li>Blogging</li>\n",
    "    <li>Music</li>\n",
    "    <li>Movies</li>\n",
    "<ul>\n",
    "* Website section scrapped\n",
    "<ul>\n",
    "    <li>Movies</li>\n",
    "<ul>\n",
    "    \n",
    "* Aims of the project\n",
    "\n",
    "The project aims at scraping data from the movies section that has been uploaded from 2016 till date(March 2023)"
   ]
  },
  {
   "cell_type": "code",
   "execution_count": 1,
   "id": "331e2520",
   "metadata": {},
   "outputs": [],
   "source": [
    "import pandas as pd\n",
    "from bs4 import BeautifulSoup#Beautiful Soup is a Python library used to extract data from HTML and XML files\n",
    "import requests#used to send GET and POST requests to websites and retrieve the response data.\n",
    "from tqdm.notebook import tqdm_notebook"
   ]
  },
  {
   "cell_type": "markdown",
   "id": "1f2e4c6d",
   "metadata": {},
   "source": [
    "# Creating resuable fuctions"
   ]
  },
  {
   "cell_type": "code",
   "execution_count": 2,
   "id": "094382b8",
   "metadata": {},
   "outputs": [],
   "source": [
    "#function to load url and parse its function\n",
    "def parse_html(url):\n",
    "    #this will get url from the web \n",
    "    response=requests.get(url)\n",
    "    soup=BeautifulSoup(response.content,'lxml')#used for processing XML and HTML documents.\n",
    "    return soup\n",
    "    \n",
    "    \n",
    "#Function to print next page link\n",
    "def nextlink(soup):\n",
    "    try:\n",
    "        next_link=soup.find('a', class_=\"next page-numbers\", href=True)['href']\n",
    "        return next_link\n",
    "    except:\n",
    "        return #return noting if at last page\n",
    "    \n",
    "    "
   ]
  },
  {
   "cell_type": "markdown",
   "id": "c8c835e5",
   "metadata": {},
   "source": [
    "# Get the last page of the website(netnaija)"
   ]
  },
  {
   "cell_type": "code",
   "execution_count": 3,
   "id": "7d433067",
   "metadata": {},
   "outputs": [],
   "source": [
    "url='https://www.thenetnaija.net/videos/movies'\n",
    "soup=parse_html(url)\n",
    "paginating=soup.find('ul',class_='pagination')\n",
    "x=int(paginating.findAll('li')[5].text)"
   ]
  },
  {
   "cell_type": "code",
   "execution_count": 4,
   "id": "02a50722",
   "metadata": {},
   "outputs": [
    {
     "data": {
      "text/plain": [
       "226"
      ]
     },
     "execution_count": 4,
     "metadata": {},
     "output_type": "execute_result"
    }
   ],
   "source": [
    "x #the number of pages is stored in variable 'x'"
   ]
  },
  {
   "cell_type": "markdown",
   "id": "233c96b7",
   "metadata": {},
   "source": [
    "# Loop to get link of all pages\n"
   ]
  },
  {
   "cell_type": "markdown",
   "id": "6821e3a8",
   "metadata": {},
   "source": [
    "# Base url"
   ]
  },
  {
   "cell_type": "code",
   "execution_count": 5,
   "id": "e8ffcf3e",
   "metadata": {},
   "outputs": [
    {
     "data": {
      "application/vnd.jupyter.widget-view+json": {
       "model_id": "8650fcc63d1e445594b85cd5d36a5943",
       "version_major": 2,
       "version_minor": 0
      },
      "text/plain": [
       "Loading....:   0%|          | 0/226 [00:00<?, ?it/s]"
      ]
     },
     "metadata": {},
     "output_type": "display_data"
    }
   ],
   "source": [
    "url='https://www.thenetnaija.net/videos/movies' #you may open on your browser to have an idea of the website structure\n",
    "\n",
    "pagelink_storage=[]\n",
    "\n",
    "for i in tqdm_notebook(range(x), desc='Loading....'):\n",
    "    soup=parse_html(url)\n",
    "    url=nextlink(soup) \n",
    "    if not url:\n",
    "        break\n",
    "    pagelink_storage.append(url)\n",
    "    \n",
    "\n",
    "\n"
   ]
  },
  {
   "cell_type": "code",
   "execution_count": 6,
   "id": "10773af4",
   "metadata": {},
   "outputs": [
    {
     "data": {
      "text/plain": [
       "225"
      ]
     },
     "execution_count": 6,
     "metadata": {},
     "output_type": "execute_result"
    }
   ],
   "source": [
    "len(pagelink_storage)"
   ]
  },
  {
   "cell_type": "markdown",
   "id": "f0d4806f",
   "metadata": {},
   "source": [
    "# Loop to get the links to all movies on each page"
   ]
  },
  {
   "cell_type": "code",
   "execution_count": 7,
   "id": "8e432eea",
   "metadata": {},
   "outputs": [
    {
     "data": {
      "application/vnd.jupyter.widget-view+json": {
       "model_id": "0b986c52d4ff4c53b28177c2fe224a33",
       "version_major": 2,
       "version_minor": 0
      },
      "text/plain": [
       "Loading...:   0%|          | 0/225 [00:00<?, ?it/s]"
      ]
     },
     "metadata": {},
     "output_type": "display_data"
    }
   ],
   "source": [
    "movie_links=[] # empty list to store movie links form each page\n",
    "for page in tqdm_notebook(pagelink_storage, desc='Loading...'): # a for loop to get each page from the page list\n",
    "    soup= parse_html(page) # load each page and parse\n",
    "    \n",
    "    # this series of code get all link to movies on each page and append it to movie_links\n",
    "    video_files=soup.find(\"div\", class_=\"video-files\")\n",
    "    class_info=video_files.findAll(\"div\", class_=\"info\")\n",
    "    for x in class_info:\n",
    "        link=x.find(\"a\", href=True)['href']\n",
    "        movie_links.append(link)\n",
    "        "
   ]
  },
  {
   "cell_type": "code",
   "execution_count": 8,
   "id": "c7d003d5",
   "metadata": {},
   "outputs": [
    {
     "data": {
      "text/plain": [
       "4040"
      ]
     },
     "execution_count": 8,
     "metadata": {},
     "output_type": "execute_result"
    }
   ],
   "source": [
    "len(movie_links)"
   ]
  },
  {
   "cell_type": "code",
   "execution_count": null,
   "id": "b33fd8c4",
   "metadata": {},
   "outputs": [],
   "source": []
  },
  {
   "cell_type": "markdown",
   "id": "e3462b6f",
   "metadata": {},
   "source": [
    "# Empty list to store data we need about each movie"
   ]
  },
  {
   "cell_type": "code",
   "execution_count": 9,
   "id": "3a3abbbe",
   "metadata": {},
   "outputs": [],
   "source": [
    "titles=[]  # movie titles\n",
    "movie_linkss=[] # movie links\n",
    "movie_types=[] #video type\n",
    "time_of_uplos=[] # date of upload\n",
    "movie_lengths=[] # lenght of movie\n",
    "num_of_comments=[] #numbers of comment\n",
    "mo_summarys=[] # moive summary\n",
    "Genres=[] #movie genre\n",
    "Release_Dates=[] #release date\n",
    "Starss=[] # actors and actress\n",
    "Languages=[] #movie language\n",
    "Subtitles=[] #available subtitle\n",
    "imdb_links=[] #imdb link"
   ]
  },
  {
   "cell_type": "code",
   "execution_count": 10,
   "id": "8fe580be",
   "metadata": {},
   "outputs": [
    {
     "data": {
      "application/vnd.jupyter.widget-view+json": {
       "model_id": "ac8030700b794b2c879e001ad633d3d9",
       "version_major": 2,
       "version_minor": 0
      },
      "text/plain": [
       "Loading:   0%|          | 0/4040 [00:00<?, ?it/s]"
      ]
     },
     "metadata": {},
     "output_type": "display_data"
    }
   ],
   "source": [
    "for link in tqdm_notebook(movie_links, desc='Loading'):\n",
    "    soup= parse_html(link) # browse movie link and parse\n",
    "    \n",
    "    #This series of code get the requried data and append to the data list\n",
    "    try:\n",
    "        title=soup.find('h1', class_=\"page-h1\").text \n",
    "        titles.append(title)\n",
    "    except:\n",
    "        titles.append(' ')\n",
    "    post_meta=soup.find(\"div\", class_=\"post-meta\")\n",
    "    try:\n",
    "        movie_link=post_meta.find('a', href=True)['href']\n",
    "        movie_linkss.append(movie_link)\n",
    "    except:\n",
    "        movie_links.append(' ')\n",
    "    meta_one=soup.findAll('span', class_='meta-one')\n",
    "    try:\n",
    "        movie_type=meta_one[0].text.split()\n",
    "        movie_types.append(movie_type)\n",
    "    except:\n",
    "        movie_types.append(' ')\n",
    "    #x=meta_one[1].text.split()\n",
    "    try:\n",
    "        x=meta_one[1].text.split()\n",
    "        time_of_uplo=' '.join(x)\n",
    "        time_of_uplos.append(time_of_uplo)\n",
    "    except:\n",
    "        time_of_uplos.append(' ')\n",
    "    try:\n",
    "        movie_length=meta_one[2].text.split()\n",
    "        movie_lengths.append(movie_length)\n",
    "    except:\n",
    "        movie_lengths.append(' ')\n",
    "    try:\n",
    "        num_of_comment=meta_one[3].text.split()\n",
    "        num_of_comments.append(num_of_comment)\n",
    "    except:\n",
    "        num_of_comments.append('0')\n",
    "    try:\n",
    "        mo_summary=soup.find('p').next_element\n",
    "        mo_summarys.append(mo_summary)\n",
    "    except:\n",
    "        mo_summarys.append(' ')\n",
    "    try:\n",
    "        block=soup.find('blockquote', class_='quote-content')\n",
    "        y=block.findAll('p')\n",
    "        \n",
    "        try:\n",
    "            Genre=y[1].text.split(':')[1:]\n",
    "            Genres.append(Genre)\n",
    "        except:\n",
    "            Genres.append('missing')\n",
    "        try:\n",
    "            Release_Date=y[2].text\n",
    "            Release_Dates.append(Release_Date)\n",
    "        except:\n",
    "            Release_Dates.append('missing')\n",
    "\n",
    "        try:\n",
    "            Stars=y[3].text.split(':')[1:]\n",
    "            Starss.append(Stars)\n",
    "        except:\n",
    "            Starss.append('missing')\n",
    "\n",
    "        try:\n",
    "            Language=y[5].text.split(':')[1:]\n",
    "            Languages.append(Language)\n",
    "        except:\n",
    "              Languages.append('missing')\n",
    "        try:\n",
    "            Subtitle=y[6].text.split(':')[1:]\n",
    "            Subtitles.append(Subtitle)\n",
    "        except:\n",
    "            Subtitles.append('missing')\n",
    "\n",
    "    except:\n",
    "        Genres.append('missing')\n",
    "        Release_Dates.append('missing')\n",
    "        Starss.append('missing')\n",
    "        Languages.append('missing')\n",
    "        Subtitles.append('missing')\n",
    "            \n",
    "   \n",
    "    try:\n",
    "        imdb_link=block.find('a', href=True)['href']\n",
    "        imdb_links.append(imdb_link)\n",
    "    except:\n",
    "         imdb_links.append('missing')"
   ]
  },
  {
   "cell_type": "markdown",
   "id": "2e50185c",
   "metadata": {},
   "source": [
    "# Creating a table of all data with pandas dataframe"
   ]
  },
  {
   "cell_type": "code",
   "execution_count": 11,
   "id": "963a8e13",
   "metadata": {
    "scrolled": true
   },
   "outputs": [],
   "source": [
    "df=pd.DataFrame({\"titles\":titles,       \n",
    "              \"movie_types\":movie_types,\n",
    "              \"time_of_uplos\":time_of_uplos,\n",
    "              \"movie_lengths\":movie_lengths,\n",
    "              \"num_of_comments\":num_of_comments,\n",
    "              \"Genres\":Genres,\n",
    "              \"Release_Dates\":Release_Dates,\n",
    "              \"Starss\":Starss,\n",
    "              \"Languages\":Languages,\n",
    "              \"Subtitles\":Subtitles,\n",
    "              \"movie_linkss\":movie_linkss,  \n",
    "              \"imdb_links\":imdb_links,\n",
    "              \"mo_summarys\":mo_summarys,   \n",
    "             })"
   ]
  },
  {
   "cell_type": "markdown",
   "id": "bdc8ecab",
   "metadata": {},
   "source": [
    "# save data in cvs and excel format"
   ]
  },
  {
   "cell_type": "code",
   "execution_count": 12,
   "id": "bdf430a1",
   "metadata": {},
   "outputs": [],
   "source": [
    "df.to_csv('netnaija.csv')\n",
    "df.to_excel('netnaija.xlsx')"
   ]
  },
  {
   "cell_type": "code",
   "execution_count": 13,
   "id": "fca41ebd",
   "metadata": {},
   "outputs": [
    {
     "name": "stdout",
     "output_type": "stream",
     "text": [
      "<class 'pandas.core.frame.DataFrame'>\n",
      "RangeIndex: 4040 entries, 0 to 4039\n",
      "Data columns (total 13 columns):\n",
      " #   Column           Non-Null Count  Dtype \n",
      "---  ------           --------------  ----- \n",
      " 0   titles           4040 non-null   object\n",
      " 1   movie_types      4040 non-null   object\n",
      " 2   time_of_uplos    4040 non-null   object\n",
      " 3   movie_lengths    4040 non-null   object\n",
      " 4   num_of_comments  4040 non-null   object\n",
      " 5   Genres           4040 non-null   object\n",
      " 6   Release_Dates    4040 non-null   object\n",
      " 7   Starss           4040 non-null   object\n",
      " 8   Languages        4040 non-null   object\n",
      " 9   Subtitles        4040 non-null   object\n",
      " 10  movie_linkss     4040 non-null   object\n",
      " 11  imdb_links       4040 non-null   object\n",
      " 12  mo_summarys      4040 non-null   object\n",
      "dtypes: object(13)\n",
      "memory usage: 410.4+ KB\n"
     ]
    }
   ],
   "source": [
    "df.info()"
   ]
  },
  {
   "cell_type": "code",
   "execution_count": 15,
   "id": "67c32fe3",
   "metadata": {},
   "outputs": [
    {
     "data": {
      "text/html": [
       "<div>\n",
       "<style scoped>\n",
       "    .dataframe tbody tr th:only-of-type {\n",
       "        vertical-align: middle;\n",
       "    }\n",
       "\n",
       "    .dataframe tbody tr th {\n",
       "        vertical-align: top;\n",
       "    }\n",
       "\n",
       "    .dataframe thead th {\n",
       "        text-align: right;\n",
       "    }\n",
       "</style>\n",
       "<table border=\"1\" class=\"dataframe\">\n",
       "  <thead>\n",
       "    <tr style=\"text-align: right;\">\n",
       "      <th></th>\n",
       "      <th>titles</th>\n",
       "      <th>movie_types</th>\n",
       "      <th>time_of_uplos</th>\n",
       "      <th>movie_lengths</th>\n",
       "      <th>num_of_comments</th>\n",
       "      <th>Genres</th>\n",
       "      <th>Release_Dates</th>\n",
       "      <th>Starss</th>\n",
       "      <th>Languages</th>\n",
       "      <th>Subtitles</th>\n",
       "      <th>movie_linkss</th>\n",
       "      <th>imdb_links</th>\n",
       "      <th>mo_summarys</th>\n",
       "    </tr>\n",
       "  </thead>\n",
       "  <tbody>\n",
       "    <tr>\n",
       "      <th>0</th>\n",
       "      <td>Kuttey (2023) [Indian]</td>\n",
       "      <td>[Movies]</td>\n",
       "      <td>Mar 20</td>\n",
       "      <td>[01:48:51]</td>\n",
       "      <td>[68]</td>\n",
       "      <td>[ Action, Comedy, Crime, Thriller]</td>\n",
       "      <td>Release Date: Jan 13, 2023 (Inda)</td>\n",
       "      <td>[ Arjun Kapoor, Tabu, Kumud Mishra, Radhika Ma...</td>\n",
       "      <td>[ Hindi [Indian]]</td>\n",
       "      <td>[ English]</td>\n",
       "      <td>https://www.thenetnaija.net/videos/movies</td>\n",
       "      <td>https://www.imdb.com/title/tt15281704/</td>\n",
       "      <td>[Jungle has one rule, either you get killed or...</td>\n",
       "    </tr>\n",
       "    <tr>\n",
       "      <th>1</th>\n",
       "      <td>Bad City (2022) [Japanese]</td>\n",
       "      <td>[Movies]</td>\n",
       "      <td>Mar 17</td>\n",
       "      <td>[01:58:04]</td>\n",
       "      <td>[50]</td>\n",
       "      <td>[ Action, Crime]</td>\n",
       "      <td>Release Date: Jan 20, 2023 (Japan)</td>\n",
       "      <td>[ Hitoshi Ozawa, Mitsu Dan, Akane Sakanoue, Ka...</td>\n",
       "      <td>[ Japanese]</td>\n",
       "      <td>[ English]</td>\n",
       "      <td>https://www.thenetnaija.net/videos/movies</td>\n",
       "      <td>https://www.imdb.com/title/tt21243618/</td>\n",
       "      <td>Kensuke Sonomura directs the legendary Hitoshi...</td>\n",
       "    </tr>\n",
       "    <tr>\n",
       "      <th>2</th>\n",
       "      <td>In His Shadow (2023) [French]</td>\n",
       "      <td>[Movies]</td>\n",
       "      <td>Mar 17</td>\n",
       "      <td>[01:29:56]</td>\n",
       "      <td>[24]</td>\n",
       "      <td>[ Crime,  Drama, Family, Thriller]</td>\n",
       "      <td>Release Date: Mar 17, 2023 (France)</td>\n",
       "      <td>[ Kaaris, Alassane Diong, Assa Sylla]</td>\n",
       "      <td>[ French, English ()Dual Aduio)]</td>\n",
       "      <td>[ English]</td>\n",
       "      <td>https://www.thenetnaija.net/videos/movies</td>\n",
       "      <td>https://www.imdb.com/title/tt26763229/</td>\n",
       "      <td>After the death of their father, two half-brot...</td>\n",
       "    </tr>\n",
       "    <tr>\n",
       "      <th>3</th>\n",
       "      <td>Noise (2023) [Dutch]</td>\n",
       "      <td>[Movies]</td>\n",
       "      <td>Mar 17</td>\n",
       "      <td>[01:30:34]</td>\n",
       "      <td>[6]</td>\n",
       "      <td>[ Drama, Mystery, Thriller]</td>\n",
       "      <td>Release Date: Mar 17, 2023 (Belgium)</td>\n",
       "      <td>[ Ward Kerremans, Sallie Harmsen, Jennifer Hey...</td>\n",
       "      <td>[ Dutch, English (Dual Audio)]</td>\n",
       "      <td>[ English]</td>\n",
       "      <td>https://www.thenetnaija.net/videos/movies</td>\n",
       "      <td>https://www.imdb.com/title/tt21326658/</td>\n",
       "      <td>Matt, an influencer and young parent to newbor...</td>\n",
       "    </tr>\n",
       "    <tr>\n",
       "      <th>4</th>\n",
       "      <td>Boston Strangler (2023)</td>\n",
       "      <td>[Movies]</td>\n",
       "      <td>Mar 17</td>\n",
       "      <td>[01:52:18]</td>\n",
       "      <td>[17]</td>\n",
       "      <td>[ Crime, Drama, History, Thriller]</td>\n",
       "      <td>Release Date: Mar 17, 2023 (United States)</td>\n",
       "      <td>[ Keira Knightley, Carrie Coon, Chris Cooper, ...</td>\n",
       "      <td>[ English]</td>\n",
       "      <td>[ English]</td>\n",
       "      <td>https://www.thenetnaija.net/videos/movies</td>\n",
       "      <td>https://www.imdb.com/title/tt2560078/</td>\n",
       "      <td>[Based on a true story.]</td>\n",
       "    </tr>\n",
       "    <tr>\n",
       "      <th>5</th>\n",
       "      <td>Vaathi (2023) [Indian]</td>\n",
       "      <td>[Movies]</td>\n",
       "      <td>Mar 17</td>\n",
       "      <td>[05:00:52]</td>\n",
       "      <td>[38]</td>\n",
       "      <td>[ Action, Comedy, Drama, Romance]</td>\n",
       "      <td>Release Date: Feb17, 2023 (India)</td>\n",
       "      <td>[ Dhanush, Samyuktha Menon, Sai Kumar]</td>\n",
       "      <td>[ Tamil [Indian]]</td>\n",
       "      <td>[ English]</td>\n",
       "      <td>https://www.thenetnaija.net/videos/movies</td>\n",
       "      <td>https://www.imdb.com/title/tt15427980/</td>\n",
       "      <td>[An Ambitious Journey of a Common Man]</td>\n",
       "    </tr>\n",
       "    <tr>\n",
       "      <th>6</th>\n",
       "      <td>Haunted Universities 2 (2022) [Thai]</td>\n",
       "      <td>[Movies]</td>\n",
       "      <td>Mar 15</td>\n",
       "      <td>[02:03:59]</td>\n",
       "      <td>[28]</td>\n",
       "      <td>[ Comedy, Horror, Thriller]</td>\n",
       "      <td>Release Date: Mar 24, 2022 (Thailand)</td>\n",
       "      <td>[ Panisara Rikulsurakan, Praewa Suthamphong, N...</td>\n",
       "      <td>[ Thai]</td>\n",
       "      <td>[ English]</td>\n",
       "      <td>https://www.thenetnaija.net/videos/movies</td>\n",
       "      <td>https://www.imdb.com/title/tt19328882/</td>\n",
       "      <td>[The Haunting stories that have not been told.]</td>\n",
       "    </tr>\n",
       "    <tr>\n",
       "      <th>7</th>\n",
       "      <td>The Lake (2022) [Thai]</td>\n",
       "      <td>[Movies]</td>\n",
       "      <td>Mar 15</td>\n",
       "      <td>[01:44:20]</td>\n",
       "      <td>[55]</td>\n",
       "      <td>[ Drama, Horror, Sci-Fi, Thriller]</td>\n",
       "      <td>Release Date: Aug 18, 2022 (Thailand)</td>\n",
       "      <td>[ Theerapat Sajakul, Sushar Manaying, Vithaya ...</td>\n",
       "      <td>[ Thai]</td>\n",
       "      <td>[ English]</td>\n",
       "      <td>https://www.thenetnaija.net/videos/movies</td>\n",
       "      <td>https://www.imdb.com/title/tt21399082/</td>\n",
       "      <td>[A monster will rise.]</td>\n",
       "    </tr>\n",
       "  </tbody>\n",
       "</table>\n",
       "</div>"
      ],
      "text/plain": [
       "                                 titles movie_types time_of_uplos  \\\n",
       "0                Kuttey (2023) [Indian]    [Movies]        Mar 20   \n",
       "1            Bad City (2022) [Japanese]    [Movies]        Mar 17   \n",
       "2         In His Shadow (2023) [French]    [Movies]        Mar 17   \n",
       "3                  Noise (2023) [Dutch]    [Movies]        Mar 17   \n",
       "4               Boston Strangler (2023)    [Movies]        Mar 17   \n",
       "5                Vaathi (2023) [Indian]    [Movies]        Mar 17   \n",
       "6  Haunted Universities 2 (2022) [Thai]    [Movies]        Mar 15   \n",
       "7                The Lake (2022) [Thai]    [Movies]        Mar 15   \n",
       "\n",
       "  movie_lengths num_of_comments                              Genres  \\\n",
       "0    [01:48:51]            [68]  [ Action, Comedy, Crime, Thriller]   \n",
       "1    [01:58:04]            [50]                    [ Action, Crime]   \n",
       "2    [01:29:56]            [24]  [ Crime,  Drama, Family, Thriller]   \n",
       "3    [01:30:34]             [6]         [ Drama, Mystery, Thriller]   \n",
       "4    [01:52:18]            [17]  [ Crime, Drama, History, Thriller]   \n",
       "5    [05:00:52]            [38]   [ Action, Comedy, Drama, Romance]   \n",
       "6    [02:03:59]            [28]         [ Comedy, Horror, Thriller]   \n",
       "7    [01:44:20]            [55]  [ Drama, Horror, Sci-Fi, Thriller]   \n",
       "\n",
       "                                Release_Dates  \\\n",
       "0           Release Date: Jan 13, 2023 (Inda)   \n",
       "1          Release Date: Jan 20, 2023 (Japan)   \n",
       "2         Release Date: Mar 17, 2023 (France)   \n",
       "3        Release Date: Mar 17, 2023 (Belgium)   \n",
       "4  Release Date: Mar 17, 2023 (United States)   \n",
       "5           Release Date: Feb17, 2023 (India)   \n",
       "6       Release Date: Mar 24, 2022 (Thailand)   \n",
       "7       Release Date: Aug 18, 2022 (Thailand)   \n",
       "\n",
       "                                              Starss  \\\n",
       "0  [ Arjun Kapoor, Tabu, Kumud Mishra, Radhika Ma...   \n",
       "1  [ Hitoshi Ozawa, Mitsu Dan, Akane Sakanoue, Ka...   \n",
       "2              [ Kaaris, Alassane Diong, Assa Sylla]   \n",
       "3  [ Ward Kerremans, Sallie Harmsen, Jennifer Hey...   \n",
       "4  [ Keira Knightley, Carrie Coon, Chris Cooper, ...   \n",
       "5             [ Dhanush, Samyuktha Menon, Sai Kumar]   \n",
       "6  [ Panisara Rikulsurakan, Praewa Suthamphong, N...   \n",
       "7  [ Theerapat Sajakul, Sushar Manaying, Vithaya ...   \n",
       "\n",
       "                          Languages   Subtitles  \\\n",
       "0                 [ Hindi [Indian]]  [ English]   \n",
       "1                       [ Japanese]  [ English]   \n",
       "2  [ French, English ()Dual Aduio)]  [ English]   \n",
       "3    [ Dutch, English (Dual Audio)]  [ English]   \n",
       "4                        [ English]  [ English]   \n",
       "5                 [ Tamil [Indian]]  [ English]   \n",
       "6                           [ Thai]  [ English]   \n",
       "7                           [ Thai]  [ English]   \n",
       "\n",
       "                                movie_linkss  \\\n",
       "0  https://www.thenetnaija.net/videos/movies   \n",
       "1  https://www.thenetnaija.net/videos/movies   \n",
       "2  https://www.thenetnaija.net/videos/movies   \n",
       "3  https://www.thenetnaija.net/videos/movies   \n",
       "4  https://www.thenetnaija.net/videos/movies   \n",
       "5  https://www.thenetnaija.net/videos/movies   \n",
       "6  https://www.thenetnaija.net/videos/movies   \n",
       "7  https://www.thenetnaija.net/videos/movies   \n",
       "\n",
       "                               imdb_links  \\\n",
       "0  https://www.imdb.com/title/tt15281704/   \n",
       "1  https://www.imdb.com/title/tt21243618/   \n",
       "2  https://www.imdb.com/title/tt26763229/   \n",
       "3  https://www.imdb.com/title/tt21326658/   \n",
       "4   https://www.imdb.com/title/tt2560078/   \n",
       "5  https://www.imdb.com/title/tt15427980/   \n",
       "6  https://www.imdb.com/title/tt19328882/   \n",
       "7  https://www.imdb.com/title/tt21399082/   \n",
       "\n",
       "                                         mo_summarys  \n",
       "0  [Jungle has one rule, either you get killed or...  \n",
       "1  Kensuke Sonomura directs the legendary Hitoshi...  \n",
       "2  After the death of their father, two half-brot...  \n",
       "3  Matt, an influencer and young parent to newbor...  \n",
       "4                           [Based on a true story.]  \n",
       "5             [An Ambitious Journey of a Common Man]  \n",
       "6    [The Haunting stories that have not been told.]  \n",
       "7                             [A monster will rise.]  "
      ]
     },
     "execution_count": 15,
     "metadata": {},
     "output_type": "execute_result"
    }
   ],
   "source": [
    "df.head(8)"
   ]
  }
 ],
 "metadata": {
  "kernelspec": {
   "display_name": "Python 3 (ipykernel)",
   "language": "python",
   "name": "python3"
  },
  "language_info": {
   "codemirror_mode": {
    "name": "ipython",
    "version": 3
   },
   "file_extension": ".py",
   "mimetype": "text/x-python",
   "name": "python",
   "nbconvert_exporter": "python",
   "pygments_lexer": "ipython3",
   "version": "3.9.13"
  }
 },
 "nbformat": 4,
 "nbformat_minor": 5
}
